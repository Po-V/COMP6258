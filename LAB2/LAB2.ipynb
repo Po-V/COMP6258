{
 "cells": [
  {
   "cell_type": "code",
   "execution_count": 1,
   "id": "9dc75002",
   "metadata": {},
   "outputs": [],
   "source": [
    "import torch\n",
    "from typing import Tuple\n",
    "import numpy as np"
   ]
  },
  {
   "cell_type": "code",
   "execution_count": 2,
   "id": "c5414159",
   "metadata": {},
   "outputs": [],
   "source": [
    "def gd_factorise_ad(A: torch.Tensor, rank: int, num_epochs = 1000, lr = 0.01):\n",
    "    \n",
    "    U = torch.rand(A.shape[0], rank, requires_grad = True)\n",
    "    V = torch.rand(A.shape[1], rank, requires_grad = True)\n",
    "    \n",
    "    error = 0\n",
    "    for i in range(num_epochs):\n",
    "        \n",
    "        mse_loss = torch.nn.functional.mse_loss(torch.mm(U, V.t()), A, reduction = 'sum')    \n",
    "        mse_loss.backward()\n",
    "        U.data = U.data - (lr*U.grad)\n",
    "        V.data = V.data - (lr*V.grad)\n",
    "        error = mse_loss\n",
    "        \n",
    "        U.grad.data.zero_()\n",
    "        V.grad.data.zero_()\n",
    "    return U, V, error"
   ]
  },
  {
   "cell_type": "code",
   "execution_count": 3,
   "id": "24b83471",
   "metadata": {},
   "outputs": [],
   "source": [
    "matrix = torch.tensor([[0.3374, 0.6005, 0.1735], [3.3359, 0.0492, 1.8374], [2.9407, 0.5301, 2.2620]])\n",
    "U, V , error = gd_factorise_ad(matrix, 2)"
   ]
  },
  {
   "cell_type": "code",
   "execution_count": 4,
   "id": "06e661f2",
   "metadata": {},
   "outputs": [
    {
     "data": {
      "text/plain": [
       "tensor(0.1219, grad_fn=<MseLossBackward>)"
      ]
     },
     "execution_count": 4,
     "metadata": {},
     "output_type": "execute_result"
    }
   ],
   "source": [
    "error"
   ]
  },
  {
   "cell_type": "code",
   "execution_count": 5,
   "id": "d301ba7d",
   "metadata": {},
   "outputs": [
    {
     "name": "stdout",
     "output_type": "stream",
     "text": [
      "tensor([[ 0.5602, -0.2053],\n",
      "        [ 0.7381,  1.6186],\n",
      "        [ 1.2826,  1.1418]], requires_grad=True)\n"
     ]
    }
   ],
   "source": [
    "print(U)"
   ]
  },
  {
   "cell_type": "code",
   "execution_count": 6,
   "id": "49682034",
   "metadata": {},
   "outputs": [],
   "source": [
    "import pandas as pd\n",
    "\n",
    "df = pd.read_csv('https://archive.ics.uci.edu/ml/machine-learning-databases/iris/iris.data', header=None, encoding=\"utf-8\")\n",
    "data = torch.tensor(df.iloc[:, [0,1,2,3]].values)\n",
    "data = data - data.mean(dim=0)"
   ]
  },
  {
   "cell_type": "code",
   "execution_count": 7,
   "id": "2375a779",
   "metadata": {},
   "outputs": [
    {
     "data": {
      "text/plain": [
       "tensor(15.2288, dtype=torch.float64)"
      ]
     },
     "execution_count": 7,
     "metadata": {},
     "output_type": "execute_result"
    }
   ],
   "source": [
    "U_svd, S, V = torch.svd(data)\n",
    "S[-1] = 0\n",
    "S[-2] = 0\n",
    "temp = torch.mm(U_svd, torch.diag(S))\n",
    "matrix_const = torch.mm(temp, V.t())\n",
    "torch.nn.functional.mse_loss(data, matrix_const, reduction = 'sum')"
   ]
  },
  {
   "cell_type": "code",
   "execution_count": 8,
   "id": "629a287c",
   "metadata": {},
   "outputs": [
    {
     "data": {
      "text/plain": [
       "tensor(15.2289, dtype=torch.float64, grad_fn=<MseLossBackward>)"
      ]
     },
     "execution_count": 8,
     "metadata": {},
     "output_type": "execute_result"
    }
   ],
   "source": [
    "U_data, V_data, error_data = gd_factorise_ad(data.float(), 2)\n",
    "torch.nn.functional.mse_loss(data, torch.mm(U_data, V_data.t()), reduction = 'sum')"
   ]
  },
  {
   "cell_type": "code",
   "execution_count": 9,
   "id": "e9dad372",
   "metadata": {},
   "outputs": [],
   "source": [
    "import matplotlib.pyplot as plt"
   ]
  },
  {
   "cell_type": "code",
   "execution_count": 55,
   "id": "63213c20",
   "metadata": {},
   "outputs": [
    {
     "data": {
      "image/png": "[encoded data removed]",
      "text/plain": [
       "<Figure size 432x288 with 1 Axes>"
      ]
     },
     "metadata": {
      "needs_background": "light"
     },
     "output_type": "display_data"
    }
   ],
   "source": [
    "plt.scatter(U_data[:, 0].detach().numpy(), U_data[:, 1].detach().numpy())\n",
    "plt.xlabel('Feature1')\n",
    "plt.ylabel('Feature2')\n",
    "plt.title('Plot of features for U_hat')\n",
    "plt.show()"
   ]
  },
  {
   "cell_type": "code",
   "execution_count": 57,
   "id": "62c680b8",
   "metadata": {},
   "outputs": [
    {
     "data": {
      "image/png": "[encoded data removed]",
      "text/plain": [
       "<Figure size 432x288 with 1 Axes>"
      ]
     },
     "metadata": {
      "needs_background": "light"
     },
     "output_type": "display_data"
    }
   ],
   "source": [
    "plt.scatter(U_svd[:, 0], U_svd[:, 1])\n",
    "plt.xlabel('Feature1')\n",
    "plt.ylabel('Feature2')\n",
    "plt.title('Plot of features for SVD')\n",
    "plt.show()"
   ]
  },
  {
   "cell_type": "code",
   "execution_count": 12,
   "id": "d7cbe430",
   "metadata": {},
   "outputs": [],
   "source": [
    "df = pd.read_csv('https://archive.ics.uci.edu/ml/machine-learning-databases/iris/iris.data', header=None)\n",
    "df = df.sample(frac=1) #shuffle\n",
    "\n",
    "# add label indices column\n",
    "mapping = {k: v for v, k in enumerate(df [4]. unique())}\n",
    "df[5] = df[4].map(mapping)\n",
    "\n",
    "# normalise data\n",
    "alldata = torch.tensor(df.iloc[:, [0,1,2,3]].values, dtype=torch.float)\n",
    "alldata = (alldata - alldata.mean(dim=0)) / alldata.var(dim=0)\n",
    "# create datasets\n",
    "targets_tr = torch.tensor(df.iloc[:100, 5].values, dtype=torch.long)\n",
    "targets_va = torch.tensor(df.iloc[100:, 5].values, dtype=torch.long)\n",
    "data_tr = alldata [:100]\n",
    "data_va = alldata [100:]"
   ]
  },
  {
   "cell_type": "code",
   "execution_count": 46,
   "id": "c37f7f38",
   "metadata": {},
   "outputs": [],
   "source": [
    "def gd_factorise_ad(A: torch.Tensor, y: torch.Tensor, data_va: torch.Tensor, targets_va: torch.Tensor,rank: int, \n",
    "                    num_epochs = 100, lr = 0.01):\n",
    "    \n",
    "    W1 = torch.rand(4, 12, requires_grad = True)\n",
    "    W2 = torch.rand(12, 3, requires_grad = True)\n",
    "    b1= torch.zeros(1, requires_grad = True)\n",
    "    b2= torch.zeros(1, requires_grad = True)\n",
    "    \n",
    "    train_acc = 0\n",
    "    val_acc = 0\n",
    "    for i in range(num_epochs):\n",
    "        \n",
    "        logits = torch.relu(A @ W1 + b1) @ W2 + b2\n",
    "        loss = torch.nn.functional.cross_entropy(logits, y, reduction=\"sum\")\n",
    "        loss.backward()\n",
    "        W1.data = W1.data - (lr*W1.grad)\n",
    "        W2.data = W2.data - (lr*W2.grad)\n",
    "        b1.data = b1.data - (lr*b1.grad)\n",
    "        b2.data = b2.data - (lr*b2.grad)\n",
    "        \n",
    "        W1.grad.data.zero_()\n",
    "        W2.grad.data.zero_()\n",
    "        b1.grad.data.zero_()\n",
    "        b2.grad.data.zero_()\n",
    "\n",
    "        if i == (num_epochs - 1):\n",
    "            preds = torch.argmax(torch.relu(A @ W1 + b1) @ W2 + b2, axis=1)\n",
    "            train_acc = (y == preds).sum() / preds.shape[0]\n",
    "            \n",
    "            preds_va = torch.argmax(torch.relu(data_va @ W1 + b1) @ W2 + b2, axis=1)\n",
    "            val_acc = (targets_va == preds_va).sum() / preds_va.shape[0]\n",
    "\n",
    "    return train_acc, val_acc"
   ]
  },
  {
   "cell_type": "code",
   "execution_count": 50,
   "id": "61ad1641",
   "metadata": {},
   "outputs": [],
   "source": [
    "train_acc_list = []\n",
    "val_acc_list = []\n",
    "\n",
    "for i in range(10):\n",
    "    train_acc, val_acc = gd_factorise_ad(data_tr,targets_tr, data_va, targets_va, 2)\n",
    "    train_acc_list.append(train_acc)\n",
    "    val_acc_list.append(val_acc)"
   ]
  },
  {
   "cell_type": "code",
   "execution_count": 54,
   "id": "94e93f4a",
   "metadata": {},
   "outputs": [
    {
     "name": "stdout",
     "output_type": "stream",
     "text": [
      "  Training Accuracy Validation Accuracy\n",
      "0    tensor(0.9400)      tensor(0.9200)\n",
      "1    tensor(0.9300)      tensor(0.9000)\n",
      "2    tensor(0.9500)      tensor(0.9200)\n",
      "3    tensor(0.9500)      tensor(0.9000)\n",
      "4    tensor(0.6700)      tensor(0.6200)\n",
      "5    tensor(0.9500)      tensor(0.9000)\n",
      "6    tensor(0.9500)      tensor(0.9200)\n",
      "7    tensor(0.9500)      tensor(0.9000)\n",
      "8    tensor(0.9500)      tensor(0.9200)\n",
      "9    tensor(0.9400)      tensor(0.8800)\n"
     ]
    }
   ],
   "source": [
    "import pandas as pd\n",
    "\n",
    "d = {'Training Accuracy': train_acc_list, 'Validation Accuracy': val_acc_list}\n",
    "print(pd.DataFrame(d))"
   ]
  },
  {
   "cell_type": "code",
   "execution_count": null,
   "id": "70f2ab9c",
   "metadata": {},
   "outputs": [],
   "source": []
  },
  {
   "cell_type": "code",
   "execution_count": null,
   "id": "b49c9f79",
   "metadata": {},
   "outputs": [],
   "source": []
  }
 ],
 "metadata": {
  "kernelspec": {
   "display_name": "Python 3",
   "language": "python",
   "name": "python3"
  },
  "language_info": {
   "codemirror_mode": {
    "name": "ipython",
    "version": 3
   },
   "file_extension": ".py",
   "mimetype": "text/x-python",
   "name": "python",
   "nbconvert_exporter": "python",
   "pygments_lexer": "ipython3",
   "version": "3.8.5"
  }
 },
 "nbformat": 4,
 "nbformat_minor": 5
}
